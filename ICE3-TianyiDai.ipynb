{
 "cells": [
  {
   "cell_type": "markdown",
   "metadata": {},
   "source": [
    "# Knowledge Inference"
   ]
  },
  {
   "cell_type": "markdown",
   "metadata": {},
   "source": [
    "# Knowledge Tracing"
   ]
  },
  {
   "cell_type": "code",
   "execution_count": 10,
   "metadata": {},
   "outputs": [
    {
     "name": "stdout",
     "output_type": "stream",
     "text": [
      "Collecting pyBKT\n",
      "  Downloading pyBKT-1.4.tar.gz (32.7 MB)\n",
      "\u001b[K     |████████████████████████████████| 32.7 MB 684 kB/s eta 0:00:01\n",
      "\u001b[?25hRequirement already satisfied: numpy in /Users/shelly/opt/anaconda3/lib/python3.8/site-packages (from pyBKT) (1.18.5)\n",
      "Collecting sklearn\n",
      "  Downloading sklearn-0.0.tar.gz (1.1 kB)\n",
      "Requirement already satisfied: pandas in /Users/shelly/opt/anaconda3/lib/python3.8/site-packages (from pyBKT) (1.0.5)\n",
      "Requirement already satisfied: requests in /Users/shelly/opt/anaconda3/lib/python3.8/site-packages (from pyBKT) (2.24.0)\n",
      "Requirement already satisfied: scikit-learn in /Users/shelly/opt/anaconda3/lib/python3.8/site-packages (from sklearn->pyBKT) (0.23.1)\n",
      "Requirement already satisfied: python-dateutil>=2.6.1 in /Users/shelly/opt/anaconda3/lib/python3.8/site-packages (from pandas->pyBKT) (2.8.1)\n",
      "Requirement already satisfied: pytz>=2017.2 in /Users/shelly/opt/anaconda3/lib/python3.8/site-packages (from pandas->pyBKT) (2020.1)\n",
      "Requirement already satisfied: chardet<4,>=3.0.2 in /Users/shelly/opt/anaconda3/lib/python3.8/site-packages (from requests->pyBKT) (3.0.4)\n",
      "Requirement already satisfied: idna<3,>=2.5 in /Users/shelly/opt/anaconda3/lib/python3.8/site-packages (from requests->pyBKT) (2.10)\n",
      "Requirement already satisfied: urllib3!=1.25.0,!=1.25.1,<1.26,>=1.21.1 in /Users/shelly/opt/anaconda3/lib/python3.8/site-packages (from requests->pyBKT) (1.25.9)\n",
      "Requirement already satisfied: certifi>=2017.4.17 in /Users/shelly/opt/anaconda3/lib/python3.8/site-packages (from requests->pyBKT) (2020.6.20)\n",
      "Requirement already satisfied: joblib>=0.11 in /Users/shelly/opt/anaconda3/lib/python3.8/site-packages (from scikit-learn->sklearn->pyBKT) (0.16.0)\n",
      "Requirement already satisfied: threadpoolctl>=2.0.0 in /Users/shelly/opt/anaconda3/lib/python3.8/site-packages (from scikit-learn->sklearn->pyBKT) (2.1.0)\n",
      "Requirement already satisfied: scipy>=0.19.1 in /Users/shelly/opt/anaconda3/lib/python3.8/site-packages (from scikit-learn->sklearn->pyBKT) (1.5.0)\n",
      "Requirement already satisfied: six>=1.5 in /Users/shelly/opt/anaconda3/lib/python3.8/site-packages (from python-dateutil>=2.6.1->pandas->pyBKT) (1.15.0)\n",
      "Building wheels for collected packages: pyBKT, sklearn\n",
      "  Building wheel for pyBKT (setup.py) ... \u001b[?25ldone\n",
      "\u001b[?25h  Created wheel for pyBKT: filename=pyBKT-1.4-cp38-cp38-macosx_10_9_x86_64.whl size=64418 sha256=1ddf5c3d6e22aea9571cdf19c548b981a2ff3ee9aa02a2e00e9be7947449bdce\n",
      "  Stored in directory: /Users/shelly/Library/Caches/pip/wheels/bc/ae/42/9ee776bb5ef74681678fc76c4a92d1ee3ffdd242e7d3529078\n",
      "  Building wheel for sklearn (setup.py) ... \u001b[?25ldone\n",
      "\u001b[?25h  Created wheel for sklearn: filename=sklearn-0.0-py2.py3-none-any.whl size=1315 sha256=7fd4a78c10e2251ab5d44bba30fd531cc0f17a36ab5ce346b1b4febfe87ce46c\n",
      "  Stored in directory: /Users/shelly/Library/Caches/pip/wheels/22/0b/40/fd3f795caaa1fb4c6cb738bc1f56100be1e57da95849bfc897\n",
      "Successfully built pyBKT sklearn\n",
      "Installing collected packages: sklearn, pyBKT\n",
      "Successfully installed pyBKT-1.4 sklearn-0.0\n",
      "Note: you may need to restart the kernel to use updated packages.\n"
     ]
    }
   ],
   "source": [
    "pip install pyBKT"
   ]
  },
  {
   "cell_type": "code",
   "execution_count": 2,
   "metadata": {},
   "outputs": [],
   "source": [
    "# Import all required packages including pyBKT.models.Model!\n",
    "import numpy as np\n",
    "import pandas as pd\n",
    "from pyBKT.models import Model\n",
    "import matplotlib.pyplot as plt"
   ]
  },
  {
   "cell_type": "markdown",
   "metadata": {},
   "source": [
    "## Basic Model Creation and Evaluation"
   ]
  },
  {
   "cell_type": "code",
   "execution_count": 3,
   "metadata": {},
   "outputs": [],
   "source": [
    "model = Model(seed = 42, num_fits = 1)"
   ]
  },
  {
   "cell_type": "code",
   "execution_count": 6,
   "metadata": {},
   "outputs": [],
   "source": [
    "model.fetch_dataset('https://raw.githubusercontent.com/CAHLR/pyBKT-examples/master/data/as.csv', '.')"
   ]
  },
  {
   "cell_type": "code",
   "execution_count": 7,
   "metadata": {},
   "outputs": [],
   "source": [
    "model.fetch_dataset('https://raw.githubusercontent.com/CAHLR/pyBKT-examples/master/data/ct.csv', '.')"
   ]
  },
  {
   "cell_type": "code",
   "execution_count": 8,
   "metadata": {},
   "outputs": [
    {
     "name": "stdout",
     "output_type": "stream",
     "text": [
      "Index(['Unnamed: 0', 'Row', 'Anon Student Id', 'Problem Hierarchy',\n",
      "       'Problem Name', 'Problem View', 'Step Name', 'Step Start Time',\n",
      "       'First Transaction Time', 'Correct Transaction Time', 'Step End Time',\n",
      "       'Step Duration (sec)', 'Correct Step Duration (sec)',\n",
      "       'Error Step Duration (sec)', 'Correct First Attempt', 'Incorrects',\n",
      "       'Hints', 'Corrects', 'KC(Default)', 'Opportunity(Default)'],\n",
      "      dtype='object')\n"
     ]
    },
    {
     "data": {
      "text/html": [
       "<div>\n",
       "<style scoped>\n",
       "    .dataframe tbody tr th:only-of-type {\n",
       "        vertical-align: middle;\n",
       "    }\n",
       "\n",
       "    .dataframe tbody tr th {\n",
       "        vertical-align: top;\n",
       "    }\n",
       "\n",
       "    .dataframe thead th {\n",
       "        text-align: right;\n",
       "    }\n",
       "</style>\n",
       "<table border=\"1\" class=\"dataframe\">\n",
       "  <thead>\n",
       "    <tr style=\"text-align: right;\">\n",
       "      <th></th>\n",
       "      <th>Unnamed: 0</th>\n",
       "      <th>Row</th>\n",
       "      <th>Anon Student Id</th>\n",
       "      <th>Problem Hierarchy</th>\n",
       "      <th>Problem Name</th>\n",
       "      <th>Problem View</th>\n",
       "      <th>Step Name</th>\n",
       "      <th>Step Start Time</th>\n",
       "      <th>First Transaction Time</th>\n",
       "      <th>Correct Transaction Time</th>\n",
       "      <th>Step End Time</th>\n",
       "      <th>Step Duration (sec)</th>\n",
       "      <th>Correct Step Duration (sec)</th>\n",
       "      <th>Error Step Duration (sec)</th>\n",
       "      <th>Correct First Attempt</th>\n",
       "      <th>Incorrects</th>\n",
       "      <th>Hints</th>\n",
       "      <th>Corrects</th>\n",
       "      <th>KC(Default)</th>\n",
       "      <th>Opportunity(Default)</th>\n",
       "    </tr>\n",
       "  </thead>\n",
       "  <tbody>\n",
       "    <tr>\n",
       "      <th>0</th>\n",
       "      <td>1576</td>\n",
       "      <td>1927</td>\n",
       "      <td>745Yh</td>\n",
       "      <td>Unit RATIO-PROPORTION, Section RATIO-PROPORTION-2</td>\n",
       "      <td>RATIO2-001</td>\n",
       "      <td>1</td>\n",
       "      <td>SimplifiedNumeratorQuantity1</td>\n",
       "      <td>2006-11-14 10:18:00.0</td>\n",
       "      <td>2006-11-14 10:18:05.0</td>\n",
       "      <td>2006-11-14 10:18:05.0</td>\n",
       "      <td>2006-11-14 10:18:05.0</td>\n",
       "      <td>5.00000</td>\n",
       "      <td>5.00000</td>\n",
       "      <td>nan</td>\n",
       "      <td>1</td>\n",
       "      <td>0</td>\n",
       "      <td>0</td>\n",
       "      <td>1</td>\n",
       "      <td>Calculate unit rate</td>\n",
       "      <td>1</td>\n",
       "    </tr>\n",
       "    <tr>\n",
       "      <th>1</th>\n",
       "      <td>1580</td>\n",
       "      <td>1931</td>\n",
       "      <td>745Yh</td>\n",
       "      <td>Unit RATIO-PROPORTION, Section RATIO-PROPORTION-2</td>\n",
       "      <td>RATIO2-001</td>\n",
       "      <td>1</td>\n",
       "      <td>SimplifiedNumeratorQuantity2</td>\n",
       "      <td>2006-11-14 10:18:11.0</td>\n",
       "      <td>2006-11-14 10:18:17.0</td>\n",
       "      <td>2006-11-14 10:18:34.0</td>\n",
       "      <td>2006-11-14 10:18:34.0</td>\n",
       "      <td>23.00000</td>\n",
       "      <td>nan</td>\n",
       "      <td>23.00000</td>\n",
       "      <td>0</td>\n",
       "      <td>1</td>\n",
       "      <td>0</td>\n",
       "      <td>1</td>\n",
       "      <td>Calculate unit rate</td>\n",
       "      <td>2</td>\n",
       "    </tr>\n",
       "    <tr>\n",
       "      <th>2</th>\n",
       "      <td>1596</td>\n",
       "      <td>1947</td>\n",
       "      <td>745Yh</td>\n",
       "      <td>Unit RATIO-PROPORTION, Section RATIO-PROPORTION-2</td>\n",
       "      <td>RATIO2-012</td>\n",
       "      <td>1</td>\n",
       "      <td>SimplifiedNumeratorQuantity1</td>\n",
       "      <td>2006-11-14 10:50:52.0</td>\n",
       "      <td>2006-11-14 10:50:57.0</td>\n",
       "      <td>2006-11-14 10:51:11.0</td>\n",
       "      <td>2006-11-14 10:51:11.0</td>\n",
       "      <td>18.00000</td>\n",
       "      <td>nan</td>\n",
       "      <td>18.00000</td>\n",
       "      <td>0</td>\n",
       "      <td>1</td>\n",
       "      <td>0</td>\n",
       "      <td>1</td>\n",
       "      <td>Calculate unit rate</td>\n",
       "      <td>3</td>\n",
       "    </tr>\n",
       "    <tr>\n",
       "      <th>3</th>\n",
       "      <td>1597</td>\n",
       "      <td>1948</td>\n",
       "      <td>745Yh</td>\n",
       "      <td>Unit RATIO-PROPORTION, Section RATIO-PROPORTION-2</td>\n",
       "      <td>RATIO2-012</td>\n",
       "      <td>1</td>\n",
       "      <td>SimplifiedNumeratorQuantity2</td>\n",
       "      <td>2006-11-14 10:51:11.0</td>\n",
       "      <td>2006-11-14 10:51:14.0</td>\n",
       "      <td>2006-11-14 10:51:14.0</td>\n",
       "      <td>2006-11-14 10:51:14.0</td>\n",
       "      <td>3.00000</td>\n",
       "      <td>3.00000</td>\n",
       "      <td>nan</td>\n",
       "      <td>1</td>\n",
       "      <td>0</td>\n",
       "      <td>0</td>\n",
       "      <td>1</td>\n",
       "      <td>Calculate unit rate</td>\n",
       "      <td>4</td>\n",
       "    </tr>\n",
       "    <tr>\n",
       "      <th>4</th>\n",
       "      <td>1612</td>\n",
       "      <td>1963</td>\n",
       "      <td>745Yh</td>\n",
       "      <td>Unit RATIO-PROPORTION, Section RATIO-PROPORTION-2</td>\n",
       "      <td>RATIO2-054</td>\n",
       "      <td>1</td>\n",
       "      <td>SimplifiedNumeratorQuantity2</td>\n",
       "      <td>2006-11-28 09:53:43.0</td>\n",
       "      <td>2006-11-28 09:53:47.0</td>\n",
       "      <td>2006-11-28 09:53:56.0</td>\n",
       "      <td>2006-11-28 09:53:56.0</td>\n",
       "      <td>13.00000</td>\n",
       "      <td>nan</td>\n",
       "      <td>13.00000</td>\n",
       "      <td>0</td>\n",
       "      <td>1</td>\n",
       "      <td>0</td>\n",
       "      <td>1</td>\n",
       "      <td>Calculate unit rate</td>\n",
       "      <td>5</td>\n",
       "    </tr>\n",
       "  </tbody>\n",
       "</table>\n",
       "</div>"
      ],
      "text/plain": [
       "   Unnamed: 0   Row Anon Student Id  \\\n",
       "0        1576  1927           745Yh   \n",
       "1        1580  1931           745Yh   \n",
       "2        1596  1947           745Yh   \n",
       "3        1597  1948           745Yh   \n",
       "4        1612  1963           745Yh   \n",
       "\n",
       "                                   Problem Hierarchy Problem Name  \\\n",
       "0  Unit RATIO-PROPORTION, Section RATIO-PROPORTION-2   RATIO2-001   \n",
       "1  Unit RATIO-PROPORTION, Section RATIO-PROPORTION-2   RATIO2-001   \n",
       "2  Unit RATIO-PROPORTION, Section RATIO-PROPORTION-2   RATIO2-012   \n",
       "3  Unit RATIO-PROPORTION, Section RATIO-PROPORTION-2   RATIO2-012   \n",
       "4  Unit RATIO-PROPORTION, Section RATIO-PROPORTION-2   RATIO2-054   \n",
       "\n",
       "   Problem View                     Step Name        Step Start Time  \\\n",
       "0             1  SimplifiedNumeratorQuantity1  2006-11-14 10:18:00.0   \n",
       "1             1  SimplifiedNumeratorQuantity2  2006-11-14 10:18:11.0   \n",
       "2             1  SimplifiedNumeratorQuantity1  2006-11-14 10:50:52.0   \n",
       "3             1  SimplifiedNumeratorQuantity2  2006-11-14 10:51:11.0   \n",
       "4             1  SimplifiedNumeratorQuantity2  2006-11-28 09:53:43.0   \n",
       "\n",
       "  First Transaction Time Correct Transaction Time          Step End Time  \\\n",
       "0  2006-11-14 10:18:05.0    2006-11-14 10:18:05.0  2006-11-14 10:18:05.0   \n",
       "1  2006-11-14 10:18:17.0    2006-11-14 10:18:34.0  2006-11-14 10:18:34.0   \n",
       "2  2006-11-14 10:50:57.0    2006-11-14 10:51:11.0  2006-11-14 10:51:11.0   \n",
       "3  2006-11-14 10:51:14.0    2006-11-14 10:51:14.0  2006-11-14 10:51:14.0   \n",
       "4  2006-11-28 09:53:47.0    2006-11-28 09:53:56.0  2006-11-28 09:53:56.0   \n",
       "\n",
       "   Step Duration (sec)  Correct Step Duration (sec)  \\\n",
       "0              5.00000                      5.00000   \n",
       "1             23.00000                          nan   \n",
       "2             18.00000                          nan   \n",
       "3              3.00000                      3.00000   \n",
       "4             13.00000                          nan   \n",
       "\n",
       "   Error Step Duration (sec)  Correct First Attempt  Incorrects  Hints  \\\n",
       "0                        nan                      1           0      0   \n",
       "1                   23.00000                      0           1      0   \n",
       "2                   18.00000                      0           1      0   \n",
       "3                        nan                      1           0      0   \n",
       "4                   13.00000                      0           1      0   \n",
       "\n",
       "   Corrects          KC(Default)  Opportunity(Default)  \n",
       "0         1  Calculate unit rate                     1  \n",
       "1         1  Calculate unit rate                     2  \n",
       "2         1  Calculate unit rate                     3  \n",
       "3         1  Calculate unit rate                     4  \n",
       "4         1  Calculate unit rate                     5  "
      ]
     },
     "execution_count": 8,
     "metadata": {},
     "output_type": "execute_result"
    }
   ],
   "source": [
    "ct_df = pd.read_csv('ct.csv', encoding = 'latin')\n",
    "print(ct_df.columns)\n",
    "ct_df.head(5)"
   ]
  },
  {
   "cell_type": "code",
   "execution_count": 9,
   "metadata": {},
   "outputs": [
    {
     "name": "stdout",
     "output_type": "stream",
     "text": [
      "Index(['order_id', 'assignment_id', 'user_id', 'assistment_id', 'problem_id',\n",
      "       'original', 'correct', 'attempt_count', 'ms_first_response',\n",
      "       'tutor_mode', 'answer_type', 'sequence_id', 'student_class_id',\n",
      "       'position', 'type', 'base_sequence_id', 'skill_id', 'skill_name',\n",
      "       'teacher_id', 'school_id', 'hint_count', 'hint_total', 'overlap_time',\n",
      "       'template_id', 'answer_id', 'answer_text', 'first_action',\n",
      "       'bottom_hint', 'opportunity', 'opportunity_original'],\n",
      "      dtype='object')\n"
     ]
    },
    {
     "data": {
      "text/html": [
       "<div>\n",
       "<style scoped>\n",
       "    .dataframe tbody tr th:only-of-type {\n",
       "        vertical-align: middle;\n",
       "    }\n",
       "\n",
       "    .dataframe tbody tr th {\n",
       "        vertical-align: top;\n",
       "    }\n",
       "\n",
       "    .dataframe thead th {\n",
       "        text-align: right;\n",
       "    }\n",
       "</style>\n",
       "<table border=\"1\" class=\"dataframe\">\n",
       "  <thead>\n",
       "    <tr style=\"text-align: right;\">\n",
       "      <th></th>\n",
       "      <th>order_id</th>\n",
       "      <th>assignment_id</th>\n",
       "      <th>user_id</th>\n",
       "      <th>assistment_id</th>\n",
       "      <th>problem_id</th>\n",
       "      <th>original</th>\n",
       "      <th>correct</th>\n",
       "      <th>attempt_count</th>\n",
       "      <th>ms_first_response</th>\n",
       "      <th>tutor_mode</th>\n",
       "      <th>...</th>\n",
       "      <th>hint_count</th>\n",
       "      <th>hint_total</th>\n",
       "      <th>overlap_time</th>\n",
       "      <th>template_id</th>\n",
       "      <th>answer_id</th>\n",
       "      <th>answer_text</th>\n",
       "      <th>first_action</th>\n",
       "      <th>bottom_hint</th>\n",
       "      <th>opportunity</th>\n",
       "      <th>opportunity_original</th>\n",
       "    </tr>\n",
       "  </thead>\n",
       "  <tbody>\n",
       "    <tr>\n",
       "      <th>0</th>\n",
       "      <td>33022537</td>\n",
       "      <td>277618</td>\n",
       "      <td>64525</td>\n",
       "      <td>33139</td>\n",
       "      <td>51424</td>\n",
       "      <td>1</td>\n",
       "      <td>1</td>\n",
       "      <td>1</td>\n",
       "      <td>32454</td>\n",
       "      <td>tutor</td>\n",
       "      <td>...</td>\n",
       "      <td>0</td>\n",
       "      <td>3</td>\n",
       "      <td>32454</td>\n",
       "      <td>30799</td>\n",
       "      <td>nan</td>\n",
       "      <td>26</td>\n",
       "      <td>0</td>\n",
       "      <td>nan</td>\n",
       "      <td>1</td>\n",
       "      <td>1.00000</td>\n",
       "    </tr>\n",
       "    <tr>\n",
       "      <th>1</th>\n",
       "      <td>33022709</td>\n",
       "      <td>277618</td>\n",
       "      <td>64525</td>\n",
       "      <td>33150</td>\n",
       "      <td>51435</td>\n",
       "      <td>1</td>\n",
       "      <td>1</td>\n",
       "      <td>1</td>\n",
       "      <td>4922</td>\n",
       "      <td>tutor</td>\n",
       "      <td>...</td>\n",
       "      <td>0</td>\n",
       "      <td>3</td>\n",
       "      <td>4922</td>\n",
       "      <td>30799</td>\n",
       "      <td>nan</td>\n",
       "      <td>55</td>\n",
       "      <td>0</td>\n",
       "      <td>nan</td>\n",
       "      <td>2</td>\n",
       "      <td>2.00000</td>\n",
       "    </tr>\n",
       "    <tr>\n",
       "      <th>2</th>\n",
       "      <td>35450204</td>\n",
       "      <td>220674</td>\n",
       "      <td>70363</td>\n",
       "      <td>33159</td>\n",
       "      <td>51444</td>\n",
       "      <td>1</td>\n",
       "      <td>0</td>\n",
       "      <td>2</td>\n",
       "      <td>25390</td>\n",
       "      <td>tutor</td>\n",
       "      <td>...</td>\n",
       "      <td>0</td>\n",
       "      <td>3</td>\n",
       "      <td>42000</td>\n",
       "      <td>30799</td>\n",
       "      <td>nan</td>\n",
       "      <td>88</td>\n",
       "      <td>0</td>\n",
       "      <td>nan</td>\n",
       "      <td>1</td>\n",
       "      <td>1.00000</td>\n",
       "    </tr>\n",
       "    <tr>\n",
       "      <th>3</th>\n",
       "      <td>35450295</td>\n",
       "      <td>220674</td>\n",
       "      <td>70363</td>\n",
       "      <td>33110</td>\n",
       "      <td>51395</td>\n",
       "      <td>1</td>\n",
       "      <td>1</td>\n",
       "      <td>1</td>\n",
       "      <td>4859</td>\n",
       "      <td>tutor</td>\n",
       "      <td>...</td>\n",
       "      <td>0</td>\n",
       "      <td>3</td>\n",
       "      <td>4859</td>\n",
       "      <td>30059</td>\n",
       "      <td>nan</td>\n",
       "      <td>41</td>\n",
       "      <td>0</td>\n",
       "      <td>nan</td>\n",
       "      <td>2</td>\n",
       "      <td>2.00000</td>\n",
       "    </tr>\n",
       "    <tr>\n",
       "      <th>4</th>\n",
       "      <td>35450311</td>\n",
       "      <td>220674</td>\n",
       "      <td>70363</td>\n",
       "      <td>33196</td>\n",
       "      <td>51481</td>\n",
       "      <td>1</td>\n",
       "      <td>0</td>\n",
       "      <td>14</td>\n",
       "      <td>19813</td>\n",
       "      <td>tutor</td>\n",
       "      <td>...</td>\n",
       "      <td>3</td>\n",
       "      <td>4</td>\n",
       "      <td>124564</td>\n",
       "      <td>30060</td>\n",
       "      <td>nan</td>\n",
       "      <td>65</td>\n",
       "      <td>0</td>\n",
       "      <td>0.00000</td>\n",
       "      <td>3</td>\n",
       "      <td>3.00000</td>\n",
       "    </tr>\n",
       "  </tbody>\n",
       "</table>\n",
       "<p>5 rows × 30 columns</p>\n",
       "</div>"
      ],
      "text/plain": [
       "   order_id  assignment_id  user_id  assistment_id  problem_id  original  \\\n",
       "0  33022537         277618    64525          33139       51424         1   \n",
       "1  33022709         277618    64525          33150       51435         1   \n",
       "2  35450204         220674    70363          33159       51444         1   \n",
       "3  35450295         220674    70363          33110       51395         1   \n",
       "4  35450311         220674    70363          33196       51481         1   \n",
       "\n",
       "   correct  attempt_count  ms_first_response tutor_mode  ... hint_count  \\\n",
       "0        1              1              32454      tutor  ...          0   \n",
       "1        1              1               4922      tutor  ...          0   \n",
       "2        0              2              25390      tutor  ...          0   \n",
       "3        1              1               4859      tutor  ...          0   \n",
       "4        0             14              19813      tutor  ...          3   \n",
       "\n",
       "   hint_total  overlap_time  template_id answer_id  answer_text  first_action  \\\n",
       "0           3         32454        30799       nan           26             0   \n",
       "1           3          4922        30799       nan           55             0   \n",
       "2           3         42000        30799       nan           88             0   \n",
       "3           3          4859        30059       nan           41             0   \n",
       "4           4        124564        30060       nan           65             0   \n",
       "\n",
       "  bottom_hint  opportunity  opportunity_original  \n",
       "0         nan            1               1.00000  \n",
       "1         nan            2               2.00000  \n",
       "2         nan            1               1.00000  \n",
       "3         nan            2               2.00000  \n",
       "4     0.00000            3               3.00000  \n",
       "\n",
       "[5 rows x 30 columns]"
      ]
     },
     "execution_count": 9,
     "metadata": {},
     "output_type": "execute_result"
    }
   ],
   "source": [
    "as_df = pd.read_csv('as.csv', encoding = 'latin', low_memory = False)\n",
    "print(as_df.columns)\n",
    "as_df.head(5)"
   ]
  },
  {
   "cell_type": "code",
   "execution_count": 10,
   "metadata": {},
   "outputs": [],
   "source": [
    "model.fit(data_path = 'ct.csv')"
   ]
  },
  {
   "cell_type": "code",
   "execution_count": 11,
   "metadata": {},
   "outputs": [
    {
     "name": "stdout",
     "output_type": "stream",
     "text": [
      "Fitted Skills:\n",
      "Plot non-terminating improper fraction\n",
      "Plot terminating proper fraction\n",
      "Calculate part in proportion with fractions\n",
      "Calculate total in proportion with fractions\n"
     ]
    }
   ],
   "source": [
    "model.fit(data_path = 'ct.csv', skills = \".*fraction.*\")\n",
    "print(\"Fitted Skills:\\n%s\" % '\\n'.join(model.coef_.keys()))"
   ]
  },
  {
   "cell_type": "code",
   "execution_count": 12,
   "metadata": {},
   "outputs": [
    {
     "name": "stdout",
     "output_type": "stream",
     "text": [
      "Training RMSE: 0.453916\n",
      "Training AUC: 0.707175\n"
     ]
    }
   ],
   "source": [
    "# Evaluate with the default RMSE then specify AUC.\n",
    "model.fit(data_path = 'ct.csv')\n",
    "training_rmse = model.evaluate(data = ct_df)\n",
    "training_auc = model.evaluate(data_path = \"ct.csv\", metric = 'auc')\n",
    "print(\"Training RMSE: %f\" % training_rmse)\n",
    "print(\"Training AUC: %f\" % training_auc)"
   ]
  },
  {
   "cell_type": "code",
   "execution_count": 13,
   "metadata": {},
   "outputs": [
    {
     "name": "stdout",
     "output_type": "stream",
     "text": [
      "Training MAE: 0.412022\n"
     ]
    }
   ],
   "source": [
    "# We can even define our own metric!\n",
    "def mae(true_vals, pred_vals):\n",
    "  \"\"\" Calculates the mean absolute error. \"\"\"\n",
    "  return np.mean(np.abs(true_vals - pred_vals))\n",
    "\n",
    "training_mae = model.evaluate(data_path = 'ct.csv', metric = mae)\n",
    "print(\"Training MAE: %f\" % training_mae)"
   ]
  },
  {
   "cell_type": "markdown",
   "metadata": {},
   "source": [
    "## Model Prediction"
   ]
  },
  {
   "cell_type": "code",
   "execution_count": 14,
   "metadata": {},
   "outputs": [
    {
     "data": {
      "text/html": [
       "<div>\n",
       "<style scoped>\n",
       "    .dataframe tbody tr th:only-of-type {\n",
       "        vertical-align: middle;\n",
       "    }\n",
       "\n",
       "    .dataframe tbody tr th {\n",
       "        vertical-align: top;\n",
       "    }\n",
       "\n",
       "    .dataframe thead th {\n",
       "        text-align: right;\n",
       "    }\n",
       "</style>\n",
       "<table border=\"1\" class=\"dataframe\">\n",
       "  <thead>\n",
       "    <tr style=\"text-align: right;\">\n",
       "      <th></th>\n",
       "      <th>Anon Student Id</th>\n",
       "      <th>KC(Default)</th>\n",
       "      <th>Correct First Attempt</th>\n",
       "      <th>correct_predictions</th>\n",
       "      <th>state_predictions</th>\n",
       "    </tr>\n",
       "  </thead>\n",
       "  <tbody>\n",
       "    <tr>\n",
       "      <th>773</th>\n",
       "      <td>0I891Gg</td>\n",
       "      <td>Plot non-terminating improper fraction</td>\n",
       "      <td>0</td>\n",
       "      <td>0.51222</td>\n",
       "      <td>0.72551</td>\n",
       "    </tr>\n",
       "    <tr>\n",
       "      <th>774</th>\n",
       "      <td>0I891Gg</td>\n",
       "      <td>Plot imperfect radical</td>\n",
       "      <td>0</td>\n",
       "      <td>0.50000</td>\n",
       "      <td>0.50000</td>\n",
       "    </tr>\n",
       "    <tr>\n",
       "      <th>775</th>\n",
       "      <td>0I891Gg</td>\n",
       "      <td>Plot terminating proper fraction</td>\n",
       "      <td>0</td>\n",
       "      <td>0.49829</td>\n",
       "      <td>0.70127</td>\n",
       "    </tr>\n",
       "    <tr>\n",
       "      <th>776</th>\n",
       "      <td>0I891Gg</td>\n",
       "      <td>Plot pi</td>\n",
       "      <td>1</td>\n",
       "      <td>0.50000</td>\n",
       "      <td>0.50000</td>\n",
       "    </tr>\n",
       "    <tr>\n",
       "      <th>777</th>\n",
       "      <td>0I891Gg</td>\n",
       "      <td>Plot terminating proper fraction</td>\n",
       "      <td>1</td>\n",
       "      <td>0.45315</td>\n",
       "      <td>0.58924</td>\n",
       "    </tr>\n",
       "  </tbody>\n",
       "</table>\n",
       "</div>"
      ],
      "text/plain": [
       "    Anon Student Id                             KC(Default)  \\\n",
       "773         0I891Gg  Plot non-terminating improper fraction   \n",
       "774         0I891Gg                  Plot imperfect radical   \n",
       "775         0I891Gg        Plot terminating proper fraction   \n",
       "776         0I891Gg                                 Plot pi   \n",
       "777         0I891Gg        Plot terminating proper fraction   \n",
       "\n",
       "     Correct First Attempt  correct_predictions  state_predictions  \n",
       "773                      0              0.51222            0.72551  \n",
       "774                      0              0.50000            0.50000  \n",
       "775                      0              0.49829            0.70127  \n",
       "776                      1              0.50000            0.50000  \n",
       "777                      1              0.45315            0.58924  "
      ]
     },
     "execution_count": 14,
     "metadata": {},
     "output_type": "execute_result"
    }
   ],
   "source": [
    "# Note again that the REGEX expression below trains BKT models on all\n",
    "# skills containing the word fraction!\n",
    "model.fit(data_path = 'ct.csv', skills = \".*fraction.*\")\n",
    "preds = model.predict(data_path = 'ct.csv')\n",
    "preds[['Anon Student Id', 'KC(Default)', 'Correct First Attempt', \n",
    "       'correct_predictions', 'state_predictions']].head(5)"
   ]
  },
  {
   "cell_type": "code",
   "execution_count": 15,
   "metadata": {},
   "outputs": [
    {
     "data": {
      "text/plain": [
       "array(['Plot non-terminating improper fraction',\n",
       "       'Plot terminating proper fraction',\n",
       "       'Calculate part in proportion with fractions',\n",
       "       'Calculate total in proportion with fractions'], dtype=object)"
      ]
     },
     "execution_count": 15,
     "metadata": {},
     "output_type": "execute_result"
    }
   ],
   "source": [
    "# Let's sanity check that we have only trained on the skills that we \n",
    "# specified in the call to fit! Note that while it is possible for a \n",
    "# BKT prediction to be 0.5 exactly, it is unlikely.\n",
    "preds[preds['correct_predictions'] != 0.5]['KC(Default)'].unique()"
   ]
  },
  {
   "cell_type": "code",
   "execution_count": 16,
   "metadata": {},
   "outputs": [
    {
     "data": {
      "text/plain": [
       "0.4408559122350721"
      ]
     },
     "execution_count": 16,
     "metadata": {},
     "output_type": "execute_result"
    }
   ],
   "source": [
    "# Let's manually calculate the RMSE of the correct predictions \n",
    "# and ensure that it is the same as a call to the evaluate function.\n",
    "def rmse(y_true, y_pred):\n",
    "  \"\"\" Returns the root-mean squared error. \"\"\"\n",
    "  return np.sqrt(np.mean((y_true - y_pred) ** 2))\n",
    "\n",
    "# Filter out the data for which we did not train!\n",
    "preds_filtered = preds[preds['KC(Default)'].str.contains('fraction')]\n",
    "manual_training_rmse = rmse(preds_filtered['Correct First Attempt'],\n",
    "                            preds_filtered['correct_predictions'])\n",
    "manual_training_rmse"
   ]
  },
  {
   "cell_type": "code",
   "execution_count": 17,
   "metadata": {},
   "outputs": [
    {
     "data": {
      "text/plain": [
       "0.44085591223507625"
      ]
     },
     "execution_count": 17,
     "metadata": {},
     "output_type": "execute_result"
    }
   ],
   "source": [
    "# We use model.evaluate to accomplish the same thing!\n",
    "# You should receive an RMSE that is identical to the above\n",
    "# manually calculated RMSE.\n",
    "model.evaluate(data = ct_df)"
   ]
  },
  {
   "cell_type": "markdown",
   "metadata": {},
   "source": [
    "## Model Cross-Validation and Variants"
   ]
  },
  {
   "cell_type": "code",
   "execution_count": 18,
   "metadata": {},
   "outputs": [
    {
     "data": {
      "text/html": [
       "<div>\n",
       "<style scoped>\n",
       "    .dataframe tbody tr th:only-of-type {\n",
       "        vertical-align: middle;\n",
       "    }\n",
       "\n",
       "    .dataframe tbody tr th {\n",
       "        vertical-align: top;\n",
       "    }\n",
       "\n",
       "    .dataframe thead th {\n",
       "        text-align: right;\n",
       "    }\n",
       "</style>\n",
       "<table border=\"1\" class=\"dataframe\">\n",
       "  <thead>\n",
       "    <tr style=\"text-align: right;\">\n",
       "      <th></th>\n",
       "      <th>rmse</th>\n",
       "    </tr>\n",
       "    <tr>\n",
       "      <th>skill</th>\n",
       "      <th></th>\n",
       "    </tr>\n",
       "  </thead>\n",
       "  <tbody>\n",
       "    <tr>\n",
       "      <th>Plot non-terminating improper fraction</th>\n",
       "      <td>0.48595</td>\n",
       "    </tr>\n",
       "    <tr>\n",
       "      <th>Plot imperfect radical</th>\n",
       "      <td>0.43631</td>\n",
       "    </tr>\n",
       "    <tr>\n",
       "      <th>Plot terminating proper fraction</th>\n",
       "      <td>0.49787</td>\n",
       "    </tr>\n",
       "    <tr>\n",
       "      <th>Plot pi</th>\n",
       "      <td>0.45987</td>\n",
       "    </tr>\n",
       "    <tr>\n",
       "      <th>Plot whole number</th>\n",
       "      <td>0.28979</td>\n",
       "    </tr>\n",
       "    <tr>\n",
       "      <th>Plot decimal - thousandths</th>\n",
       "      <td>0.47291</td>\n",
       "    </tr>\n",
       "    <tr>\n",
       "      <th>Calculate unit rate</th>\n",
       "      <td>0.48344</td>\n",
       "    </tr>\n",
       "    <tr>\n",
       "      <th>Calculate part in proportion with fractions</th>\n",
       "      <td>0.42792</td>\n",
       "    </tr>\n",
       "    <tr>\n",
       "      <th>Calculate total in proportion with fractions</th>\n",
       "      <td>0.42446</td>\n",
       "    </tr>\n",
       "    <tr>\n",
       "      <th>Finding the intersection, Mixed</th>\n",
       "      <td>0.50242</td>\n",
       "    </tr>\n",
       "    <tr>\n",
       "      <th>Finding the intersection, GLF</th>\n",
       "      <td>0.48709</td>\n",
       "    </tr>\n",
       "    <tr>\n",
       "      <th>Finding the intersection, SIF</th>\n",
       "      <td>0.49903</td>\n",
       "    </tr>\n",
       "  </tbody>\n",
       "</table>\n",
       "</div>"
      ],
      "text/plain": [
       "                                                rmse\n",
       "skill                                               \n",
       "Plot non-terminating improper fraction       0.48595\n",
       "Plot imperfect radical                       0.43631\n",
       "Plot terminating proper fraction             0.49787\n",
       "Plot pi                                      0.45987\n",
       "Plot whole number                            0.28979\n",
       "Plot decimal - thousandths                   0.47291\n",
       "Calculate unit rate                          0.48344\n",
       "Calculate part in proportion with fractions  0.42792\n",
       "Calculate total in proportion with fractions 0.42446\n",
       "Finding the intersection, Mixed              0.50242\n",
       "Finding the intersection, GLF                0.48709\n",
       "Finding the intersection, SIF                0.49903"
      ]
     },
     "execution_count": 18,
     "metadata": {},
     "output_type": "execute_result"
    }
   ],
   "source": [
    "# Note that folds is an optional parameter as well as the model \n",
    "# variant, seed, and crossvalidated metric.\n",
    "# By default, we crossvalidate on all skills separately.\n",
    "model.crossvalidate(data_path = 'ct.csv', folds = 5)"
   ]
  },
  {
   "cell_type": "code",
   "execution_count": 19,
   "metadata": {},
   "outputs": [
    {
     "data": {
      "text/html": [
       "<div>\n",
       "<style scoped>\n",
       "    .dataframe tbody tr th:only-of-type {\n",
       "        vertical-align: middle;\n",
       "    }\n",
       "\n",
       "    .dataframe tbody tr th {\n",
       "        vertical-align: top;\n",
       "    }\n",
       "\n",
       "    .dataframe thead th {\n",
       "        text-align: right;\n",
       "    }\n",
       "</style>\n",
       "<table border=\"1\" class=\"dataframe\">\n",
       "  <thead>\n",
       "    <tr style=\"text-align: right;\">\n",
       "      <th></th>\n",
       "      <th>auc</th>\n",
       "    </tr>\n",
       "    <tr>\n",
       "      <th>skill</th>\n",
       "      <th></th>\n",
       "    </tr>\n",
       "  </thead>\n",
       "  <tbody>\n",
       "    <tr>\n",
       "      <th>Calculations with Similar Figures</th>\n",
       "      <td>0.59334</td>\n",
       "    </tr>\n",
       "  </tbody>\n",
       "</table>\n",
       "</div>"
      ],
      "text/plain": [
       "                                      auc\n",
       "skill                                    \n",
       "Calculations with Similar Figures 0.59334"
      ]
     },
     "execution_count": 19,
     "metadata": {},
     "output_type": "execute_result"
    }
   ],
   "source": [
    "# Try this with a different skill or metric by replacing the lines below.\n",
    "skill = 'Calculations with Similar Figures'\n",
    "metric = 'auc'\n",
    "\n",
    "simple_cv = model.crossvalidate(data = as_df, skills = skill, \n",
    "                                metric = metric)\n",
    "simple_cv"
   ]
  },
  {
   "cell_type": "code",
   "execution_count": 20,
   "metadata": {},
   "outputs": [
    {
     "data": {
      "text/html": [
       "<div>\n",
       "<style scoped>\n",
       "    .dataframe tbody tr th:only-of-type {\n",
       "        vertical-align: middle;\n",
       "    }\n",
       "\n",
       "    .dataframe tbody tr th {\n",
       "        vertical-align: top;\n",
       "    }\n",
       "\n",
       "    .dataframe thead th {\n",
       "        text-align: right;\n",
       "    }\n",
       "</style>\n",
       "<table border=\"1\" class=\"dataframe\">\n",
       "  <thead>\n",
       "    <tr style=\"text-align: right;\">\n",
       "      <th></th>\n",
       "      <th>auc</th>\n",
       "    </tr>\n",
       "    <tr>\n",
       "      <th>skill</th>\n",
       "      <th></th>\n",
       "    </tr>\n",
       "  </thead>\n",
       "  <tbody>\n",
       "    <tr>\n",
       "      <th>Calculations with Similar Figures</th>\n",
       "      <td>0.63923</td>\n",
       "    </tr>\n",
       "  </tbody>\n",
       "</table>\n",
       "</div>"
      ],
      "text/plain": [
       "                                      auc\n",
       "skill                                    \n",
       "Calculations with Similar Figures 0.63923"
      ]
     },
     "execution_count": 20,
     "metadata": {},
     "output_type": "execute_result"
    }
   ],
   "source": [
    "multigs_cv = model.crossvalidate(data_path = 'as.csv', skills = skill,\n",
    "                                 multigs = True, metric = metric)\n",
    "multigs_cv"
   ]
  },
  {
   "cell_type": "code",
   "execution_count": 21,
   "metadata": {},
   "outputs": [
    {
     "data": {
      "text/html": [
       "<div>\n",
       "<style scoped>\n",
       "    .dataframe tbody tr th:only-of-type {\n",
       "        vertical-align: middle;\n",
       "    }\n",
       "\n",
       "    .dataframe tbody tr th {\n",
       "        vertical-align: top;\n",
       "    }\n",
       "\n",
       "    .dataframe thead th {\n",
       "        text-align: right;\n",
       "    }\n",
       "</style>\n",
       "<table border=\"1\" class=\"dataframe\">\n",
       "  <thead>\n",
       "    <tr style=\"text-align: right;\">\n",
       "      <th></th>\n",
       "      <th>auc</th>\n",
       "    </tr>\n",
       "    <tr>\n",
       "      <th>skill</th>\n",
       "      <th></th>\n",
       "    </tr>\n",
       "  </thead>\n",
       "  <tbody>\n",
       "    <tr>\n",
       "      <th>Calculations with Similar Figures</th>\n",
       "      <td>0.61328</td>\n",
       "    </tr>\n",
       "  </tbody>\n",
       "</table>\n",
       "</div>"
      ],
      "text/plain": [
       "                                      auc\n",
       "skill                                    \n",
       "Calculations with Similar Figures 0.61328"
      ]
     },
     "execution_count": 21,
     "metadata": {},
     "output_type": "execute_result"
    }
   ],
   "source": [
    "multilearn_cv = model.crossvalidate(data_path = 'as.csv', skills = skill,\n",
    "                                    multilearn = True, forgets = True, \n",
    "                                    metric = metric)\n",
    "multilearn_cv"
   ]
  },
  {
   "cell_type": "code",
   "execution_count": 22,
   "metadata": {},
   "outputs": [
    {
     "data": {
      "text/html": [
       "<div>\n",
       "<style scoped>\n",
       "    .dataframe tbody tr th:only-of-type {\n",
       "        vertical-align: middle;\n",
       "    }\n",
       "\n",
       "    .dataframe tbody tr th {\n",
       "        vertical-align: top;\n",
       "    }\n",
       "\n",
       "    .dataframe thead th {\n",
       "        text-align: right;\n",
       "    }\n",
       "</style>\n",
       "<table border=\"1\" class=\"dataframe\">\n",
       "  <thead>\n",
       "    <tr style=\"text-align: right;\">\n",
       "      <th></th>\n",
       "      <th>auc</th>\n",
       "    </tr>\n",
       "    <tr>\n",
       "      <th>skill</th>\n",
       "      <th></th>\n",
       "    </tr>\n",
       "  </thead>\n",
       "  <tbody>\n",
       "    <tr>\n",
       "      <th>Calculations with Similar Figures</th>\n",
       "      <td>0.60089</td>\n",
       "    </tr>\n",
       "    <tr>\n",
       "      <th>Calculations with Similar Figures</th>\n",
       "      <td>0.58749</td>\n",
       "    </tr>\n",
       "  </tbody>\n",
       "</table>\n",
       "</div>"
      ],
      "text/plain": [
       "                                      auc\n",
       "skill                                    \n",
       "Calculations with Similar Figures 0.60089\n",
       "Calculations with Similar Figures 0.58749"
      ]
     },
     "execution_count": 22,
     "metadata": {},
     "output_type": "execute_result"
    }
   ],
   "source": [
    "# The multiprior model generates different priors based on the first \n",
    "# response of each student.\n",
    "multiprior_cv = model.crossvalidate(data_path = 'as.csv', skills = skill,\n",
    "                                    multiprior = True, metric = metric,\n",
    "                                    folds = 3)\n",
    "multipair_cv = model.crossvalidate(data_path = 'as.csv', skills = skill,\n",
    "                                   multipair = True, metric = metric,\n",
    "                                   folds = 3)\n",
    "pd.concat([multiprior_cv, multipair_cv], axis = 0)"
   ]
  },
  {
   "cell_type": "code",
   "execution_count": 23,
   "metadata": {},
   "outputs": [
    {
     "data": {
      "text/html": [
       "<div>\n",
       "<style scoped>\n",
       "    .dataframe tbody tr th:only-of-type {\n",
       "        vertical-align: middle;\n",
       "    }\n",
       "\n",
       "    .dataframe tbody tr th {\n",
       "        vertical-align: top;\n",
       "    }\n",
       "\n",
       "    .dataframe thead th {\n",
       "        text-align: right;\n",
       "    }\n",
       "</style>\n",
       "<table border=\"1\" class=\"dataframe\">\n",
       "  <thead>\n",
       "    <tr style=\"text-align: right;\">\n",
       "      <th></th>\n",
       "      <th>auc</th>\n",
       "    </tr>\n",
       "    <tr>\n",
       "      <th>skill</th>\n",
       "      <th></th>\n",
       "    </tr>\n",
       "  </thead>\n",
       "  <tbody>\n",
       "    <tr>\n",
       "      <th>Calculations with Similar Figures</th>\n",
       "      <td>0.63992</td>\n",
       "    </tr>\n",
       "  </tbody>\n",
       "</table>\n",
       "</div>"
      ],
      "text/plain": [
       "                                      auc\n",
       "skill                                    \n",
       "Calculations with Similar Figures 0.63992"
      ]
     },
     "execution_count": 23,
     "metadata": {},
     "output_type": "execute_result"
    }
   ],
   "source": [
    "# We combine the fifth parameter, forgets, with the previous multilearn\n",
    "# and multiguess/slip models for a combo model.\n",
    "combo_cv = model.crossvalidate(data_path = 'as.csv', skills = skill,\n",
    "                               forgets = True, multilearn = True, \n",
    "                               multigs = True, metric = metric)\n",
    "combo_cv"
   ]
  },
  {
   "cell_type": "markdown",
   "metadata": {},
   "source": [
    "## Model Parameter Initialization and Visualization"
   ]
  },
  {
   "cell_type": "code",
   "execution_count": 24,
   "metadata": {},
   "outputs": [
    {
     "data": {
      "text/plain": [
       "{'Box and Whisker': {'prior': 1e-40}}"
      ]
     },
     "execution_count": 24,
     "metadata": {},
     "output_type": "execute_result"
    }
   ],
   "source": [
    "# We initialize the prior parameter to 1e-3 for the Box and Whisker \n",
    "# skill.\n",
    "#\n",
    "# Note that if we are training a KT-IDEM (multiguess/slip) model,\n",
    "# we need to have len(guesses) == len(slips) == # of G/S classes.\n",
    "# Similarly, for multilearn models, you need len(forgets) == len(guesses)\n",
    "# corresponding to the number of learn classes.\n",
    "skill = 'Box and Whisker'\n",
    "\n",
    "model.coef_ = {skill: {'prior': 1e-40}}\n",
    "model.coef_"
   ]
  },
  {
   "cell_type": "code",
   "execution_count": 25,
   "metadata": {},
   "outputs": [
    {
     "name": "stdout",
     "output_type": "stream",
     "text": [
      "Fitted Prior Value: 0.000000\n",
      "Training AUC: 0.660107\n"
     ]
    }
   ],
   "source": [
    "# Train the model with the pre-initialized parameters.\n",
    "model.fit(data_path = 'as.csv', skills = skill, multigs = True)\n",
    "low_prior_auc = model.evaluate(data_path = 'as.csv', metric = 'auc')\n",
    "\n",
    "# We can obtain the prior value by indexing into the model.coef_\n",
    "# dictionary with the skill and parameter names. \n",
    "print(\"Fitted Prior Value: %f\" % model.coef_[skill]['prior'])\n",
    "print(\"Training AUC: %f\" % low_prior_auc)"
   ]
  },
  {
   "cell_type": "code",
   "execution_count": 26,
   "metadata": {},
   "outputs": [
    {
     "name": "stdout",
     "output_type": "stream",
     "text": [
      "Fitted Prior Value: 0.004341\n",
      "Training AUC: 0.636100\n"
     ]
    }
   ],
   "source": [
    "# Initialize the prior to be more reasonable.\n",
    "model.coef_ = {skill: {'prior': 0.5}}\n",
    "model.fit(data_path = 'as.csv', skills = skill, multigs = True)\n",
    "normal_prior_auc = model.evaluate(data_path = 'as.csv', metric = 'auc')\n",
    "\n",
    "# Print the fitted prior value and RMSE.\n",
    "print(\"Fitted Prior Value: %f\" % model.coef_[skill]['prior'])\n",
    "print(\"Training AUC: %f\" % normal_prior_auc)"
   ]
  },
  {
   "cell_type": "code",
   "execution_count": 27,
   "metadata": {},
   "outputs": [
    {
     "data": {
      "text/html": [
       "<div>\n",
       "<style scoped>\n",
       "    .dataframe tbody tr th:only-of-type {\n",
       "        vertical-align: middle;\n",
       "    }\n",
       "\n",
       "    .dataframe tbody tr th {\n",
       "        vertical-align: top;\n",
       "    }\n",
       "\n",
       "    .dataframe thead th {\n",
       "        text-align: right;\n",
       "    }\n",
       "</style>\n",
       "<table border=\"1\" class=\"dataframe\">\n",
       "  <thead>\n",
       "    <tr style=\"text-align: right;\">\n",
       "      <th></th>\n",
       "      <th></th>\n",
       "      <th></th>\n",
       "      <th>value</th>\n",
       "    </tr>\n",
       "    <tr>\n",
       "      <th>skill</th>\n",
       "      <th>param</th>\n",
       "      <th>class</th>\n",
       "      <th></th>\n",
       "    </tr>\n",
       "  </thead>\n",
       "  <tbody>\n",
       "    <tr>\n",
       "      <th rowspan=\"25\" valign=\"top\">Box and Whisker</th>\n",
       "      <th>prior</th>\n",
       "      <th>default</th>\n",
       "      <td>0.64575</td>\n",
       "    </tr>\n",
       "    <tr>\n",
       "      <th rowspan=\"6\" valign=\"top\">learns</th>\n",
       "      <th>30059</th>\n",
       "      <td>0.55204</td>\n",
       "    </tr>\n",
       "    <tr>\n",
       "      <th>30060</th>\n",
       "      <td>0.59193</td>\n",
       "    </tr>\n",
       "    <tr>\n",
       "      <th>30799</th>\n",
       "      <td>0.49775</td>\n",
       "    </tr>\n",
       "    <tr>\n",
       "      <th>63446</th>\n",
       "      <td>0.54811</td>\n",
       "    </tr>\n",
       "    <tr>\n",
       "      <th>63447</th>\n",
       "      <td>0.51534</td>\n",
       "    </tr>\n",
       "    <tr>\n",
       "      <th>63448</th>\n",
       "      <td>0.46558</td>\n",
       "    </tr>\n",
       "    <tr>\n",
       "      <th rowspan=\"6\" valign=\"top\">guesses</th>\n",
       "      <th>30059</th>\n",
       "      <td>0.14939</td>\n",
       "    </tr>\n",
       "    <tr>\n",
       "      <th>30060</th>\n",
       "      <td>0.07898</td>\n",
       "    </tr>\n",
       "    <tr>\n",
       "      <th>30799</th>\n",
       "      <td>0.08461</td>\n",
       "    </tr>\n",
       "    <tr>\n",
       "      <th>63446</th>\n",
       "      <td>0.11168</td>\n",
       "    </tr>\n",
       "    <tr>\n",
       "      <th>63447</th>\n",
       "      <td>0.04794</td>\n",
       "    </tr>\n",
       "    <tr>\n",
       "      <th>63448</th>\n",
       "      <td>0.13132</td>\n",
       "    </tr>\n",
       "    <tr>\n",
       "      <th rowspan=\"6\" valign=\"top\">slips</th>\n",
       "      <th>30059</th>\n",
       "      <td>0.01571</td>\n",
       "    </tr>\n",
       "    <tr>\n",
       "      <th>30060</th>\n",
       "      <td>0.04341</td>\n",
       "    </tr>\n",
       "    <tr>\n",
       "      <th>30799</th>\n",
       "      <td>0.02326</td>\n",
       "    </tr>\n",
       "    <tr>\n",
       "      <th>63446</th>\n",
       "      <td>0.03351</td>\n",
       "    </tr>\n",
       "    <tr>\n",
       "      <th>63447</th>\n",
       "      <td>0.05066</td>\n",
       "    </tr>\n",
       "    <tr>\n",
       "      <th>63448</th>\n",
       "      <td>0.02557</td>\n",
       "    </tr>\n",
       "    <tr>\n",
       "      <th rowspan=\"6\" valign=\"top\">forgets</th>\n",
       "      <th>30059</th>\n",
       "      <td>0.15636</td>\n",
       "    </tr>\n",
       "    <tr>\n",
       "      <th>30060</th>\n",
       "      <td>0.14520</td>\n",
       "    </tr>\n",
       "    <tr>\n",
       "      <th>30799</th>\n",
       "      <td>0.12608</td>\n",
       "    </tr>\n",
       "    <tr>\n",
       "      <th>63446</th>\n",
       "      <td>0.17221</td>\n",
       "    </tr>\n",
       "    <tr>\n",
       "      <th>63447</th>\n",
       "      <td>0.15435</td>\n",
       "    </tr>\n",
       "    <tr>\n",
       "      <th>63448</th>\n",
       "      <td>0.23417</td>\n",
       "    </tr>\n",
       "  </tbody>\n",
       "</table>\n",
       "</div>"
      ],
      "text/plain": [
       "                                  value\n",
       "skill           param   class          \n",
       "Box and Whisker prior   default 0.64575\n",
       "                learns  30059   0.55204\n",
       "                        30060   0.59193\n",
       "                        30799   0.49775\n",
       "                        63446   0.54811\n",
       "                        63447   0.51534\n",
       "                        63448   0.46558\n",
       "                guesses 30059   0.14939\n",
       "                        30060   0.07898\n",
       "                        30799   0.08461\n",
       "                        63446   0.11168\n",
       "                        63447   0.04794\n",
       "                        63448   0.13132\n",
       "                slips   30059   0.01571\n",
       "                        30060   0.04341\n",
       "                        30799   0.02326\n",
       "                        63446   0.03351\n",
       "                        63447   0.05066\n",
       "                        63448   0.02557\n",
       "                forgets 30059   0.15636\n",
       "                        30060   0.14520\n",
       "                        30799   0.12608\n",
       "                        63446   0.17221\n",
       "                        63447   0.15435\n",
       "                        63448   0.23417"
      ]
     },
     "execution_count": 27,
     "metadata": {},
     "output_type": "execute_result"
    }
   ],
   "source": [
    "model.fit(data_path = 'as.csv', skills = skill,\n",
    "          forgets = True, multilearn = True, \n",
    "          multigs = True)\n",
    "model.params()"
   ]
  },
  {
   "cell_type": "code",
   "execution_count": 28,
   "metadata": {},
   "outputs": [
    {
     "data": {
      "image/png": "[encoded data removed]",
      "text/plain": [
       "<Figure size 864x432 with 1 Axes>"
      ]
     },
     "metadata": {
      "needs_background": "light"
     },
     "output_type": "display_data"
    }
   ],
   "source": [
    "# We will get warnings for using indexing past lexsort. That's fine,\n",
    "# and we will disable these warnings.\n",
    "import warnings\n",
    "warnings.simplefilter(action='ignore')\n",
    "\n",
    "# Plot the learns, forgets, slips and guesses for each of the classes.\n",
    "params = model.params()\n",
    "plt.figure(figsize = (12, 6))\n",
    "plt.plot(params.loc[(skill, 'guesses')], label = 'Guesses')\n",
    "plt.plot(params.loc[(skill, 'learns')], label = 'Learns')\n",
    "plt.plot(params.loc[(skill, 'forgets')], label = 'Forgets')\n",
    "plt.plot(params.loc[(skill, 'slips')], label = 'Slips')\n",
    "plt.xlabel('Template ID')\n",
    "plt.ylabel('Rate')\n",
    "plt.title('BKT Parameters per Template ID Class')\n",
    "plt.legend();"
   ]
  },
  {
   "cell_type": "markdown",
   "metadata": {},
   "source": [
    "# Item-Reponse Theory"
   ]
  },
  {
   "cell_type": "code",
   "execution_count": 47,
   "metadata": {},
   "outputs": [
    {
     "name": "stdout",
     "output_type": "stream",
     "text": [
      "Requirement already satisfied: pystan in /Users/shelly/opt/anaconda3/lib/python3.8/site-packages (3.4.0)\n",
      "Requirement already satisfied: pysimdjson<4.0,>=3.2 in /Users/shelly/opt/anaconda3/lib/python3.8/site-packages (from pystan) (3.2.0)\n",
      "Requirement already satisfied: clikit<0.7,>=0.6 in /Users/shelly/opt/anaconda3/lib/python3.8/site-packages (from pystan) (0.6.2)\n",
      "Requirement already satisfied: aiohttp<4.0,>=3.6 in /Users/shelly/opt/anaconda3/lib/python3.8/site-packages (from pystan) (3.8.1)\n",
      "Requirement already satisfied: numpy<2.0,>=1.19 in /Users/shelly/opt/anaconda3/lib/python3.8/site-packages (from pystan) (1.22.3)\n",
      "Requirement already satisfied: setuptools in /Users/shelly/opt/anaconda3/lib/python3.8/site-packages (from pystan) (49.2.0.post20200714)\n",
      "Requirement already satisfied: httpstan<4.8,>=4.7 in /Users/shelly/opt/anaconda3/lib/python3.8/site-packages (from pystan) (4.7.2)\n",
      "Requirement already satisfied: crashtest<0.4.0,>=0.3.0; python_version >= \"3.6\" and python_version < \"4.0\" in /Users/shelly/opt/anaconda3/lib/python3.8/site-packages (from clikit<0.7,>=0.6->pystan) (0.3.1)\n",
      "Requirement already satisfied: pylev<2.0,>=1.3 in /Users/shelly/opt/anaconda3/lib/python3.8/site-packages (from clikit<0.7,>=0.6->pystan) (1.4.0)\n",
      "Requirement already satisfied: pastel<0.3.0,>=0.2.0 in /Users/shelly/opt/anaconda3/lib/python3.8/site-packages (from clikit<0.7,>=0.6->pystan) (0.2.1)\n",
      "Requirement already satisfied: multidict<7.0,>=4.5 in /Users/shelly/opt/anaconda3/lib/python3.8/site-packages (from aiohttp<4.0,>=3.6->pystan) (6.0.2)\n",
      "Requirement already satisfied: async-timeout<5.0,>=4.0.0a3 in /Users/shelly/opt/anaconda3/lib/python3.8/site-packages (from aiohttp<4.0,>=3.6->pystan) (4.0.2)\n",
      "Requirement already satisfied: aiosignal>=1.1.2 in /Users/shelly/opt/anaconda3/lib/python3.8/site-packages (from aiohttp<4.0,>=3.6->pystan) (1.2.0)\n",
      "Requirement already satisfied: yarl<2.0,>=1.0 in /Users/shelly/opt/anaconda3/lib/python3.8/site-packages (from aiohttp<4.0,>=3.6->pystan) (1.7.2)\n",
      "Requirement already satisfied: frozenlist>=1.1.1 in /Users/shelly/opt/anaconda3/lib/python3.8/site-packages (from aiohttp<4.0,>=3.6->pystan) (1.3.0)\n",
      "Requirement already satisfied: attrs>=17.3.0 in /Users/shelly/opt/anaconda3/lib/python3.8/site-packages (from aiohttp<4.0,>=3.6->pystan) (19.3.0)\n",
      "Requirement already satisfied: charset-normalizer<3.0,>=2.0 in /Users/shelly/opt/anaconda3/lib/python3.8/site-packages (from aiohttp<4.0,>=3.6->pystan) (2.0.12)\n",
      "Requirement already satisfied: appdirs<2.0,>=1.4 in /Users/shelly/opt/anaconda3/lib/python3.8/site-packages (from httpstan<4.8,>=4.7->pystan) (1.4.4)\n",
      "Requirement already satisfied: webargs<9.0,>=8.0 in /Users/shelly/opt/anaconda3/lib/python3.8/site-packages (from httpstan<4.8,>=4.7->pystan) (8.1.0)\n",
      "Requirement already satisfied: marshmallow<4.0,>=3.10 in /Users/shelly/opt/anaconda3/lib/python3.8/site-packages (from httpstan<4.8,>=4.7->pystan) (3.15.0)\n",
      "Requirement already satisfied: idna>=2.0 in /Users/shelly/opt/anaconda3/lib/python3.8/site-packages (from yarl<2.0,>=1.0->aiohttp<4.0,>=3.6->pystan) (2.10)\n",
      "Requirement already satisfied: packaging in /Users/shelly/opt/anaconda3/lib/python3.8/site-packages (from webargs<9.0,>=8.0->httpstan<4.8,>=4.7->pystan) (20.4)\n",
      "Requirement already satisfied: pyparsing>=2.0.2 in /Users/shelly/opt/anaconda3/lib/python3.8/site-packages (from packaging->webargs<9.0,>=8.0->httpstan<4.8,>=4.7->pystan) (2.4.7)\n",
      "Requirement already satisfied: six in /Users/shelly/opt/anaconda3/lib/python3.8/site-packages (from packaging->webargs<9.0,>=8.0->httpstan<4.8,>=4.7->pystan) (1.15.0)\n",
      "Note: you may need to restart the kernel to use updated packages.\n"
     ]
    }
   ],
   "source": [
    "pip install pystan"
   ]
  },
  {
   "cell_type": "code",
   "execution_count": 48,
   "metadata": {},
   "outputs": [],
   "source": [
    "import pandas as pd\n",
    "from pprint import pprint\n",
    "import stan\n",
    "from scipy.special import expit\n",
    "from matplotlib import pyplot as plt\n",
    "from numpy.random import normal, randint, binomial, choice\n",
    "from numpy import percentile, concatenate, array, linspace, append\n",
    "%matplotlib inline"
   ]
  },
  {
   "cell_type": "code",
   "execution_count": 40,
   "metadata": {},
   "outputs": [
    {
     "data": {
      "text/plain": [
       "Text(0.5, 1.0, 'The logistic function')"
      ]
     },
     "execution_count": 40,
     "metadata": {},
     "output_type": "execute_result"
    },
    {
     "data": {
      "image/png": "[encoded data removed]",
      "text/plain": [
       "<Figure size 432x288 with 1 Axes>"
      ]
     },
     "metadata": {
      "needs_background": "light"
     },
     "output_type": "display_data"
    }
   ],
   "source": [
    "x_axis = linspace(-10, 10, 100)\n",
    "plt.plot(x_axis, expit(x_axis))\n",
    "plt.xlabel('x')\n",
    "plt.xlim([-6, 6])\n",
    "plt.ylabel('logistic(x)')\n",
    "plt.title('The logistic function', fontsize=15)"
   ]
  },
  {
   "cell_type": "code",
   "execution_count": 59,
   "metadata": {},
   "outputs": [],
   "source": [
    "binary_irt_model = \"\"\"\n",
    "data {\n",
    "  int<lower=0> J;         // number of schools\n",
    "  real y[J];              // estimated treatment effects\n",
    "  real<lower=0> sigma[J]; // standard error of effect estimates\n",
    "}\n",
    "parameters {\n",
    "  real mu;                // population treatment effect\n",
    "  real<lower=0> tau;      // standard deviation in treatment effects\n",
    "  vector[J] eta;          // unscaled deviation from mu by school\n",
    "}\n",
    "transformed parameters {\n",
    "  vector[J] theta = mu + tau * eta;        // school treatment effects\n",
    "}\n",
    "model {\n",
    "  target += normal_lpdf(eta | 0, 1);       // prior log-density\n",
    "  target += normal_lpdf(y | theta, sigma); // log-likelihood\n",
    "}\n",
    "\"\"\""
   ]
  },
  {
   "cell_type": "markdown",
   "metadata": {},
   "source": [
    "### Simulated data"
   ]
  },
  {
   "cell_type": "code",
   "execution_count": 51,
   "metadata": {},
   "outputs": [
    {
     "name": "stdout",
     "output_type": "stream",
     "text": [
      "Here is our randomly generated data:\n",
      "{'I': 15,\n",
      " 'R': 10000,\n",
      " 'S': 15,\n",
      " 'grade': array([0, 0, 0, ..., 1, 1, 1]),\n",
      " 'item': array([ 3, 14, 13, ...,  1,  2,  1]),\n",
      " 'subject': array([15,  5, 13, ...,  3,  5,  6])}\n"
     ]
    }
   ],
   "source": [
    "def generate_binary_irt_data(sim_input):\n",
    "    # simulate abilities, difficulties, and subject/item combinations\n",
    "    sim_ability = normal(loc=0,\n",
    "                         scale=sim_input['sigma_ability'],\n",
    "                         size=sim_input['S'])\n",
    "    sim_difficulty = normal(loc=sim_input['mu_difficulty'],\n",
    "                            scale=sim_input['sigma_difficulty'],\n",
    "                            size=sim_input['I'])\n",
    "    sim_subject = randint(low=0,\n",
    "                          high=sim_input['S'],\n",
    "                          size=sim_input['R'])\n",
    "    sim_item = randint(low=0,\n",
    "                       high=sim_input['I'],\n",
    "                       size=sim_input['R'])\n",
    "    # work out success probabilities\n",
    "    sim_success_probabilities = expit(sim_ability[sim_subject] -\n",
    "                                      sim_difficulty[sim_item])\n",
    "    # simulate grades\n",
    "    sim_grade = binomial(n=1,\n",
    "                         p=sim_success_probabilities,\n",
    "                         size=sim_input['R'])\n",
    "    # Dictionary of data to give to STAN\n",
    "    sim_data = {\n",
    "        'grade': sim_grade,\n",
    "        'subject': sim_subject + 1,\n",
    "        'item': sim_item + 1,\n",
    "    }\n",
    "    sim_data.update({i: binary_sim_input[i] for i in ['R', 'I', 'S']})\n",
    "    recoverables = {\n",
    "        'ability': sim_ability,\n",
    "        'difficulty': sim_difficulty,\n",
    "    }\n",
    "    recoverables.update({i: binary_sim_input[i] for i in ['sigma_ability',\n",
    "                                                          'mu_difficulty',\n",
    "                                                          'sigma_difficulty']})\n",
    "    return sim_data, recoverables\n",
    "\n",
    "# define some input data\n",
    "binary_sim_input = {'R': 10000,\n",
    "                    'I': 15,\n",
    "                    'S': 15,\n",
    "                    'sigma_ability': 1,\n",
    "                    'sigma_difficulty': 2,\n",
    "                    'mu_difficulty': -1}\n",
    "binary_sim_data, binary_sim_recoverables = generate_binary_irt_data(binary_sim_input)\n",
    "# print results\n",
    "print('Here is our randomly generated data:')\n",
    "pprint(binary_sim_data)  # pprint makes the dictionary print nicely"
   ]
  },
  {
   "cell_type": "code",
   "execution_count": 60,
   "metadata": {},
   "outputs": [
    {
     "ename": "RuntimeError",
     "evalue": "asyncio.run() cannot be called from a running event loop",
     "output_type": "error",
     "traceback": [
      "\u001b[0;31m---------------------------------------------------------------------------\u001b[0m",
      "\u001b[0;31mRuntimeError\u001b[0m                              Traceback (most recent call last)",
      "\u001b[0;32m<ipython-input-60-14aab66970ad>\u001b[0m in \u001b[0;36m<module>\u001b[0;34m\u001b[0m\n\u001b[1;32m      1\u001b[0m \u001b[0;31m# fit model\u001b[0m\u001b[0;34m\u001b[0m\u001b[0;34m\u001b[0m\u001b[0;34m\u001b[0m\u001b[0m\n\u001b[0;32m----> 2\u001b[0;31m \u001b[0mposterior\u001b[0m \u001b[0;34m=\u001b[0m \u001b[0mstan\u001b[0m\u001b[0;34m.\u001b[0m\u001b[0mbuild\u001b[0m\u001b[0;34m(\u001b[0m\u001b[0mbinary_irt_model\u001b[0m\u001b[0;34m,\u001b[0m \u001b[0mdata\u001b[0m\u001b[0;34m=\u001b[0m\u001b[0mbinary_sim_data\u001b[0m\u001b[0;34m,\u001b[0m \u001b[0mrandom_seed\u001b[0m\u001b[0;34m=\u001b[0m\u001b[0;36m1\u001b[0m\u001b[0;34m)\u001b[0m\u001b[0;34m\u001b[0m\u001b[0;34m\u001b[0m\u001b[0m\n\u001b[0m\u001b[1;32m      3\u001b[0m \u001b[0mbinary_fit\u001b[0m \u001b[0;34m=\u001b[0m \u001b[0mposterior\u001b[0m\u001b[0;34m.\u001b[0m\u001b[0msample\u001b[0m\u001b[0;34m(\u001b[0m\u001b[0mnum_chains\u001b[0m\u001b[0;34m=\u001b[0m\u001b[0;36m4\u001b[0m\u001b[0;34m,\u001b[0m \u001b[0mnum_samples\u001b[0m\u001b[0;34m=\u001b[0m\u001b[0;36m1000\u001b[0m\u001b[0;34m)\u001b[0m\u001b[0;34m\u001b[0m\u001b[0;34m\u001b[0m\u001b[0m\n\u001b[1;32m      4\u001b[0m \u001b[0;31m# extract parameters\u001b[0m\u001b[0;34m\u001b[0m\u001b[0;34m\u001b[0m\u001b[0;34m\u001b[0m\u001b[0m\n\u001b[1;32m      5\u001b[0m \u001b[0mbinary_params\u001b[0m \u001b[0;34m=\u001b[0m \u001b[0mbinary_fit\u001b[0m\u001b[0;34m.\u001b[0m\u001b[0mextract\u001b[0m\u001b[0;34m(\u001b[0m\u001b[0;34m)\u001b[0m\u001b[0;34m\u001b[0m\u001b[0;34m\u001b[0m\u001b[0m\n",
      "\u001b[0;32m~/opt/anaconda3/lib/python3.8/site-packages/stan/model.py\u001b[0m in \u001b[0;36mbuild\u001b[0;34m(program_code, data, random_seed)\u001b[0m\n\u001b[1;32m    515\u001b[0m \u001b[0;34m\u001b[0m\u001b[0m\n\u001b[1;32m    516\u001b[0m     \u001b[0;32mtry\u001b[0m\u001b[0;34m:\u001b[0m\u001b[0;34m\u001b[0m\u001b[0;34m\u001b[0m\u001b[0m\n\u001b[0;32m--> 517\u001b[0;31m         \u001b[0;32mreturn\u001b[0m \u001b[0masyncio\u001b[0m\u001b[0;34m.\u001b[0m\u001b[0mrun\u001b[0m\u001b[0;34m(\u001b[0m\u001b[0mgo\u001b[0m\u001b[0;34m(\u001b[0m\u001b[0;34m)\u001b[0m\u001b[0;34m)\u001b[0m\u001b[0;34m\u001b[0m\u001b[0;34m\u001b[0m\u001b[0m\n\u001b[0m\u001b[1;32m    518\u001b[0m     \u001b[0;32mexcept\u001b[0m \u001b[0mKeyboardInterrupt\u001b[0m\u001b[0;34m:\u001b[0m\u001b[0;34m\u001b[0m\u001b[0;34m\u001b[0m\u001b[0m\n\u001b[1;32m    519\u001b[0m         \u001b[0;32mreturn\u001b[0m  \u001b[0;31m# type: ignore\u001b[0m\u001b[0;34m\u001b[0m\u001b[0;34m\u001b[0m\u001b[0m\n",
      "\u001b[0;32m~/opt/anaconda3/lib/python3.8/asyncio/runners.py\u001b[0m in \u001b[0;36mrun\u001b[0;34m(main, debug)\u001b[0m\n\u001b[1;32m     31\u001b[0m     \"\"\"\n\u001b[1;32m     32\u001b[0m     \u001b[0;32mif\u001b[0m \u001b[0mevents\u001b[0m\u001b[0;34m.\u001b[0m\u001b[0m_get_running_loop\u001b[0m\u001b[0;34m(\u001b[0m\u001b[0;34m)\u001b[0m \u001b[0;32mis\u001b[0m \u001b[0;32mnot\u001b[0m \u001b[0;32mNone\u001b[0m\u001b[0;34m:\u001b[0m\u001b[0;34m\u001b[0m\u001b[0;34m\u001b[0m\u001b[0m\n\u001b[0;32m---> 33\u001b[0;31m         raise RuntimeError(\n\u001b[0m\u001b[1;32m     34\u001b[0m             \"asyncio.run() cannot be called from a running event loop\")\n\u001b[1;32m     35\u001b[0m \u001b[0;34m\u001b[0m\u001b[0m\n",
      "\u001b[0;31mRuntimeError\u001b[0m: asyncio.run() cannot be called from a running event loop"
     ]
    }
   ],
   "source": [
    "# fit model\n",
    "posterior = stan.build(binary_irt_model, data=binary_sim_data, random_seed=1)\n",
    "binary_fit = posterior.sample(num_chains=4, num_samples=1000)\n",
    "# extract parameters\n",
    "binary_params = binary_fit.extract()\n",
    "# print fit summary\n",
    "print(binary_fit)\n",
    "# draw summary plot\n",
    "f = binary_fit.plot()\n",
    "f.set_size_inches(18, 10)\n",
    "plt.tight_layout()"
   ]
  },
  {
   "cell_type": "markdown",
   "metadata": {},
   "source": [
    "I follwed the instruction, but failed to run the model."
   ]
  },
  {
   "cell_type": "code",
   "execution_count": null,
   "metadata": {},
   "outputs": [],
   "source": []
  }
 ],
 "metadata": {
  "kernelspec": {
   "display_name": "Python 3",
   "language": "python",
   "name": "python3"
  },
  "language_info": {
   "codemirror_mode": {
    "name": "ipython",
    "version": 3
   },
   "file_extension": ".py",
   "mimetype": "text/x-python",
   "name": "python",
   "nbconvert_exporter": "python",
   "pygments_lexer": "ipython3",
   "version": "3.8.3"
  }
 },
 "nbformat": 4,
 "nbformat_minor": 4
}
